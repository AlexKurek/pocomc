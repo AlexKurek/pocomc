{
 "cells": [
  {
   "cell_type": "markdown",
   "metadata": {},
   "source": [
    "# PMC - Gaussian shells example"
   ]
  },
  {
   "cell_type": "markdown",
   "metadata": {},
   "source": [
    "Importing libraries and setting the random seed for reproducibility."
   ]
  },
  {
   "cell_type": "code",
   "execution_count": 1,
   "metadata": {},
   "outputs": [],
   "source": [
    "import numpy as np\n",
    "import matplotlib.pyplot as plt\n",
    "import math\n",
    "import pocomc as pc\n",
    "\n",
    "np.random.seed(0)"
   ]
  },
  {
   "cell_type": "markdown",
   "metadata": {},
   "source": [
    "## Defining the likelihood and prior\n",
    "\n",
    "The log likelihood is given by $\\mathcal{L}(x) = \\mathcal{L}_1(x) + \\mathcal{L}_2(x)$ where the likelihood of a single shell with center $c_i$ is\n",
    "$$\n",
    "\\mathcal{L}_i(x) = -0.5\\log \\left(2\\pi w^2\\right) - \\frac{1}{2w^2} \\left(||x-c_i||_2 - r\\right)^2.\n",
    "$$\n",
    "Our prior is given by $\\pi(x) = U(-6, 6)$ for both dimensions.\n",
    "\n",
    "We use PMC to obtain samples $x_i \\sim \\mathcal{P}(x) \\propto \\mathcal{L}(x)\\pi(x)$."
   ]
  },
  {
   "cell_type": "code",
   "execution_count": 2,
   "metadata": {
    "pycharm": {
     "name": "#%%\n"
    }
   },
   "outputs": [],
   "source": [
    "###############################\n",
    "### Defining the likelihood ###\n",
    "###############################\n",
    "\n",
    "r = 2.0  # Shell radius\n",
    "w = 0.1  # Shell width\n",
    "c1 = np.array([-3.5, 0.])  # Center of shell 1\n",
    "c2 = np.array([3.5, 0.])   # Center of shell 2\n",
    "norm_const = math.log(1. / math.sqrt(2. * math.pi * w ** 2))  # normalization constant\n",
    "\n",
    "# log-likelihood of a single shell\n",
    "def logcirc(theta, c):\n",
    "    d = np.sqrt(np.sum((theta - c)**2, axis=-1))  # |theta - c|\n",
    "    return norm_const - (d - r)**2 / (2. * w**2)\n",
    "\n",
    "# log-likelihood of two shells\n",
    "def log_likelihood(x):\n",
    "    return np.logaddexp(logcirc(x, c1), logcirc(x, c2))\n",
    "\n",
    "###############################\n",
    "##### Defining the prior ######\n",
    "###############################\n",
    "\n",
    "lower = np.array([-6.0, -6.0]) # lower bound of the prior\n",
    "upper = np.array([6.0, 6.0])   # upper bound of the prior\n",
    "bounds = np.c_[lower, upper]\n",
    "const = np.sum(np.log(upper - lower))  # log of the Uniform density\n",
    "\n",
    "def log_prior(x):\n",
    "    if np.any((x < lower) | (x > upper)):  # If any dimension is out of bounds, the log prior is -infinity\n",
    "        return -np.inf \n",
    "    else:\n",
    "        return -const"
   ]
  },
  {
   "cell_type": "markdown",
   "metadata": {},
   "source": [
    "## Running PMC\n",
    "\n",
    "We run PMC with 1000 walkers, initialized to be prior samples."
   ]
  },
  {
   "cell_type": "code",
   "execution_count": 3,
   "metadata": {
    "pycharm": {
     "name": "#%%\n"
    },
    "scrolled": true
   },
   "outputs": [
    {
     "name": "stderr",
     "output_type": "stream",
     "text": [
      "Iter: 17it [01:38,  5.82s/it, beta=1, calls=86000, ESS=0.963, logZ=-2.45, accept=0.195, N=5, scale=0.886, corr=0.501]    \n"
     ]
    }
   ],
   "source": [
    "nwalkers = 1000\n",
    "prior_samples = np.random.uniform(size=(nwalkers, 2), low=-6.0, high=6.0)\n",
    "\n",
    "pmc = pc.Sampler(\n",
    "    nwalkers,\n",
    "    2,\n",
    "    log_likelihood,\n",
    "    log_prior,\n",
    "    bounds=bounds,\n",
    "    train_config={'l1': 0.2},\n",
    "    random_state=0\n",
    ")\n",
    "pmc.run(prior_samples)"
   ]
  },
  {
   "cell_type": "markdown",
   "metadata": {},
   "source": [
    "## Visualizing the PMC posterior\n",
    "\n",
    "We visualize the final PMC samples. The samples accurately represent the posterior."
   ]
  },
  {
   "cell_type": "code",
   "execution_count": 4,
   "metadata": {},
   "outputs": [
    {
     "data": {
      "image/png": "[encoded data removed]",
      "text/plain": [
       "<Figure size 360x360 with 3 Axes>"
      ]
     },
     "metadata": {
      "needs_background": "light"
     },
     "output_type": "display_data"
    }
   ],
   "source": [
    "import seaborn as sns\n",
    "\n",
    "x = pmc.results['posterior_samples']\n",
    "g = sns.JointGrid(height=5)\n",
    "g.ax_joint.scatter(x[:, 0], x[:, 1], s=1.0)\n",
    "sns.kdeplot(x=x[:, 0], ax=g.ax_marg_x)\n",
    "sns.kdeplot(y=x[:, 1], ax=g.ax_marg_y)\n",
    "plt.show()"
   ]
  }
 ],
 "metadata": {
  "kernelspec": {
   "display_name": "Python 3 (ipykernel)",
   "language": "python",
   "name": "python3"
  },
  "language_info": {
   "codemirror_mode": {
    "name": "ipython",
    "version": 3
   },
   "file_extension": ".py",
   "mimetype": "text/x-python",
   "name": "python",
   "nbconvert_exporter": "python",
   "pygments_lexer": "ipython3",
   "version": "3.8.12"
  }
 },
 "nbformat": 4,
 "nbformat_minor": 1
}
