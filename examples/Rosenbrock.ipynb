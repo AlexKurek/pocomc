{
 "cells": [
  {
   "cell_type": "markdown",
   "metadata": {},
   "source": [
    "# PMC - Rosenbrock example"
   ]
  },
  {
   "cell_type": "markdown",
   "metadata": {},
   "source": [
    "Importing libraries and setting the random seed for reproducibility."
   ]
  },
  {
   "cell_type": "code",
   "execution_count": 1,
   "metadata": {},
   "outputs": [],
   "source": [
    "import numpy as np\n",
    "import matplotlib.pyplot as plt\n",
    "import pocomc as pc\n",
    "\n",
    "np.random.seed(0)"
   ]
  },
  {
   "cell_type": "markdown",
   "metadata": {},
   "source": [
    "## Defining the likelihood and prior\n",
    "\n",
    "The Rosenbrock log likelihood is given by $$\n",
    "\\log \\mathcal{L}(x) = -\\sum_{i=1}^{N/2}\\left[10\\left(x_{2i-1}^{2}-x_{2i}\\right)^{2}+\\left(x_{2i-1}-1\\right)^{2} \\right]\n",
    "$$ with $N=20$ dimensions. Our prior is given by $\\pi(x) = U(-10, 10)$ for all dimensions.\n",
    "\n",
    "We use PMC to obtain samples $x_i \\sim \\mathcal{P}(x) \\propto \\mathcal{L}(x)\\pi(x)$."
   ]
  },
  {
   "cell_type": "code",
   "execution_count": 2,
   "metadata": {
    "pycharm": {
     "name": "#%%\n"
    }
   },
   "outputs": [],
   "source": [
    "ndim = 20  # Number of dimensions\n",
    "\n",
    "###############################\n",
    "### Defining the likelihood ###\n",
    "###############################\n",
    "\n",
    "def log_likelihood(x):\n",
    "    return -np.sum(10.0*(x[:,::2]**2.0 - x[:,1::2])**2.0 + (x[:,::2] - 1.0)**2.0, axis=1)\n",
    "\n",
    "###############################\n",
    "##### Defining the prior ######\n",
    "###############################\n",
    "\n",
    "lower = np.full(ndim, -10.) # lower bound of the prior\n",
    "upper = np.full(ndim, 10.) # upper bound of the prior\n",
    "bounds = np.c_[lower, upper]\n",
    "const = np.sum(np.log(upper - lower))  # log of the Uniform density\n",
    "\n",
    "def log_prior(x):\n",
    "    if np.any((x < lower) | (x > upper)):  # If any dimension is out of bounds, the log prior is -infinity\n",
    "        return -np.inf \n",
    "    else:\n",
    "        return -const"
   ]
  },
  {
   "cell_type": "markdown",
   "metadata": {},
   "source": [
    "## Running PMC\n",
    "\n",
    "We run PMC with 1000 walkers, initialized to be prior samples."
   ]
  },
  {
   "cell_type": "code",
   "execution_count": 3,
   "metadata": {
    "pycharm": {
     "name": "#%%\n"
    },
    "scrolled": true
   },
   "outputs": [
    {
     "name": "stderr",
     "output_type": "stream",
     "text": [
      "Iter: 91it [07:55,  5.22s/it, beta=1, calls=1783000, ESS=0.999, logZ=-56, accept=0.228, N=10, scale=1.01, corr=0.747]         \n"
     ]
    }
   ],
   "source": [
    "nwalkers = 1000\n",
    "prior_samples = np.random.uniform(size=(nwalkers, ndim), low=-10.0, high=10.0)\n",
    "\n",
    "pmc = pc.Sampler(\n",
    "    nwalkers,\n",
    "    ndim,\n",
    "    log_likelihood,\n",
    "    log_prior,\n",
    "    vectorize_likelihood=True,\n",
    "    bounds=bounds,\n",
    "    train_config={'l1': 0.2},\n",
    "    random_state=0\n",
    ")\n",
    "pmc.run(prior_samples)"
   ]
  },
  {
   "cell_type": "markdown",
   "metadata": {},
   "source": [
    "## Visualizing the PMC posterior\n",
    "\n",
    "We visualize the final PMC samples. The samples accurately represent the posterior."
   ]
  },
  {
   "cell_type": "code",
   "execution_count": 4,
   "metadata": {},
   "outputs": [
    {
     "data": {
      "image/png": "[encoded data removed]",
      "text/plain": [
       "<Figure size 360x360 with 3 Axes>"
      ]
     },
     "metadata": {
      "needs_background": "light"
     },
     "output_type": "display_data"
    }
   ],
   "source": [
    "import seaborn as sns\n",
    "\n",
    "x = pmc.results['posterior_samples']\n",
    "g = sns.JointGrid(height=5)\n",
    "g.ax_joint.scatter(x[:, 0], x[:, 1], s=1.0)\n",
    "sns.kdeplot(x=x[:, 0], ax=g.ax_marg_x)\n",
    "sns.kdeplot(y=x[:, 1], ax=g.ax_marg_y)\n",
    "plt.show()"
   ]
  }
 ],
 "metadata": {
  "kernelspec": {
   "display_name": "Python 3 (ipykernel)",
   "language": "python",
   "name": "python3"
  },
  "language_info": {
   "codemirror_mode": {
    "name": "ipython",
    "version": 3
   },
   "file_extension": ".py",
   "mimetype": "text/x-python",
   "name": "python",
   "nbconvert_exporter": "python",
   "pygments_lexer": "ipython3",
   "version": "3.8.12"
  }
 },
 "nbformat": 4,
 "nbformat_minor": 1
}
