{
 "cells": [
  {
   "cell_type": "markdown",
   "metadata": {},
   "source": [
    "# Blobs"
   ]
  },
  {
   "cell_type": "markdown",
   "metadata": {},
   "source": [
    "Sometimes it is useful to store additional metadata or derived parameters during the run so that the user does not re-compute them afterwards. This can be achieved easily in ``pocoMC`` using the *blobs* framework, inspired by ``zeus`` and ``emcee`` samplers.\n",
    "\n",
    "Any additional derived parameters can be returned by the log-likelihood function. The dtypes of these derived parameters should be defined using the ``blobs_dtype`` argument of the ``Sampler`` class.\n",
    "\n",
    "For instance, for a Gaussian likelihood (with zero mean and unit variance in 5D) where we want to store the median value of the parameters and the number of positive parameters, we would do something like this:"
   ]
  },
  {
   "cell_type": "code",
   "execution_count": 1,
   "metadata": {},
   "outputs": [
    {
     "name": "stderr",
     "output_type": "stream",
     "text": [
      "Iter: 25it [01:11,  2.84s/it, calls=11264, beta=1, logZ=-8.23, ESS=3.84e+3, acc=0.857, steps=2, logP=-15.1, eff=0.93]"
     ]
    },
    {
     "name": "stdout",
     "output_type": "stream",
     "text": [
      "Median:  [ 0.28968189 -2.48432868  1.40069292]\n",
      "Number of positive parameters:  [3 1 4]\n"
     ]
    },
    {
     "name": "stderr",
     "output_type": "stream",
     "text": [
      "\n"
     ]
    }
   ],
   "source": [
    "import numpy as np\n",
    "from scipy.stats import norm\n",
    "import pocomc as pc\n",
    "\n",
    "prior = pc.Prior(5*[norm(0,5)])\n",
    "\n",
    "def log_likelihood(x):\n",
    "    return -0.5 * np.dot(x,x), np.median(x), np.sum(x>0, dtype=int)\n",
    "\n",
    "sampler = pc.Sampler(prior,\n",
    "                    log_likelihood,\n",
    "                    blobs_dtype=[('median', float), ('n_positive', int)],\n",
    "                    )\n",
    "\n",
    "sampler.run()\n",
    "\n",
    "samples, weights, logl, logp, blobs = sampler.posterior(return_blobs=True)\n",
    "\n",
    "print(\"Median: \", blobs[\"median\"][:3])\n",
    "print(\"Number of positive parameters: \", blobs[\"n_positive\"][:3])\n"
   ]
  }
 ],
 "metadata": {
  "kernelspec": {
   "display_name": "dev-env",
   "language": "python",
   "name": "python3"
  },
  "language_info": {
   "codemirror_mode": {
    "name": "ipython",
    "version": 3
   },
   "file_extension": ".py",
   "mimetype": "text/x-python",
   "name": "python",
   "nbconvert_exporter": "python",
   "pygments_lexer": "ipython3",
   "version": "3.10.13"
  }
 },
 "nbformat": 4,
 "nbformat_minor": 2
}
