{
 "cells": [
  {
   "cell_type": "markdown",
   "metadata": {},
   "source": [
    "# Checkpointing"
   ]
  },
  {
   "cell_type": "markdown",
   "metadata": {},
   "source": [
    "A useful option, especially for long runs, is to be able to store the state of ``pocoMC`` in a file and also the to use\n",
    "that file in order to later continue the same run. This can help avoid disastrous situations in which a run is interrupted\n",
    "or terminated prematurely (e.g. due to time limitation in computing clusters or possible crashes).\n",
    "\n",
    "Fortunately, ``pocoMC`` offers both options to save and load a previous state of the sampler."
   ]
  },
  {
   "cell_type": "markdown",
   "metadata": {},
   "source": [
    "## Save\n",
    "\n",
    "In order to save the state of the sampler during the run, one has to specify how often to save the state in a file. This is\n",
    "done using the ``save_every`` argument in the ``run`` method. The default is ``save_every=None`` which means that no state\n",
    "is saved during the run. If instead we want to store the state of ``pocoMC`` every e.g. ``3`` iterations, we would do\n",
    "something like:"
   ]
  },
  {
   "cell_type": "code",
   "execution_count": null,
   "metadata": {},
   "outputs": [],
   "source": [
    "sampler.run(save_every = 3)"
   ]
  },
  {
   "cell_type": "markdown",
   "metadata": {},
   "source": [
    "The default directory in which the state files are saved is a folder named ``states`` in the current directory. One can change\n",
    "this using the ``output_dir`` argument when initialising the sampler (e.g. ``output_dir = \"new_run\"``). By default, the state\n",
    "files follow the naming convention ``pmc_{i}.state`` where ``i`` is the iteration index. For instance, if ``save_every=3`` was \n",
    "specified then the ``output_dir`` directory will include the files ``pmc_3.state``, ``pmc_6.state``, etc. One can also change\n",
    "the label from ``pmc`` to anything else by using the ``output_label`` argument when initialising the sampler (e.g. \n",
    "``output_label=\"grav_waves\"``)."
   ]
  },
  {
   "cell_type": "markdown",
   "metadata": {},
   "source": [
    "## Load"
   ]
  },
  {
   "cell_type": "markdown",
   "metadata": {},
   "source": [
    "Loading a previous state of the sampler and resuming the run from that point requires to provide the path to the specific state\n",
    "file to the ``run`` method using the ``resume_state_path`` argument. For instance, if we want to continue the run from the \n",
    "``pmc_3.state`` which is in the ``states`` directory, we would do:"
   ]
  },
  {
   "cell_type": "code",
   "execution_count": null,
   "metadata": {},
   "outputs": [],
   "source": [
    "sampler.run(resume_state_path = \"states/pmc_3.state\")"
   ]
  },
  {
   "cell_type": "markdown",
   "metadata": {},
   "source": [
    "## Load and Add More Samples\n",
    "\n",
    "It is possible to add more samples to a finished run. This is useful when one wants to experiment with *small* runs until they get their analysis right, and then increase the number of required posterior samples to get publication-quality results. When ``save_every`` is not ``None``, pocoMC will save a *final* file when sampling is done. By default, this is called ``pmc_final.state``. We can load this state and change the termination criteria in order to add more samples, as follows:"
   ]
  },
  {
   "cell_type": "code",
   "execution_count": null,
   "metadata": {},
   "outputs": [],
   "source": [
    "sampler.run(n_total=16384, # This is the number of samples we want to draw in total, including the ones we already have.\n",
    "            n_evidence=16384, # This is the number of samples we want to draw for the evidence estimation.\n",
    "            resume_state_path = \"states/pmc_final.state\")"
   ]
  },
  {
   "cell_type": "markdown",
   "metadata": {},
   "source": [
    "In this case, we chose to terminate sampling when the total ESS exceeds ``n_total=16384``, which is higher than the default value of ``n_total=4096``. Furthermore, we also provided a higher number of samples used for the evidence estimation. This means that the new evidence estimate will be more accurate than the original. However, could have chose to set ``n_evidence=0`` and only added more posterior samples."
   ]
  },
  {
   "cell_type": "markdown",
   "metadata": {},
   "source": []
  }
 ],
 "metadata": {
  "language_info": {
   "name": "python"
  }
 },
 "nbformat": 4,
 "nbformat_minor": 2
}
